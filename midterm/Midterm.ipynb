{
 "cells": [
  {
   "cell_type": "code",
   "execution_count": 905,
   "metadata": {},
   "outputs": [],
   "source": [
    "import ffn\n",
    "%matplotlib inline\n",
    "import numpy as np\n",
    "import pandas as pd\n",
    "import pandas_datareader.data as web\n",
    "from datetime import datetime\n",
    "import pickle\n",
    "import requests\n",
    "from io import StringIO\n",
    "import matplotlib.pyplot as plt "
   ]
  },
  {
   "cell_type": "code",
   "execution_count": 906,
   "metadata": {},
   "outputs": [],
   "source": [
    "import talib\n",
    "from talib import MA_Type"
   ]
  },
  {
   "cell_type": "code",
   "execution_count": 907,
   "metadata": {
    "collapsed": true
   },
   "outputs": [],
   "source": [
    "# 讀出預先下載好的股價資料\n",
    "with open('stockdata', 'rb') as f:\n",
    "    data = pickle.load(file=f)"
   ]
  },
  {
   "cell_type": "markdown",
   "metadata": {},
   "source": [
    "# Q1. 畫出 Diamond Shape"
   ]
  },
  {
   "cell_type": "code",
   "execution_count": 908,
   "metadata": {},
   "outputs": [
    {
     "name": "stdout",
     "output_type": "stream",
     "text": [
      "         *\n",
      "        ***\n",
      "       *****\n",
      "      *******\n",
      "     *********\n",
      "    ***********\n",
      "   *************\n",
      "  ***************\n",
      " *****************\n",
      "*******************\n",
      " *****************\n",
      "  ***************\n",
      "   *************\n",
      "    ***********\n",
      "     *********\n",
      "      *******\n",
      "       *****\n",
      "        ***\n",
      "         *\n"
     ]
    }
   ],
   "source": [
    "def pyramid(n):\n",
    "    for i in range(1,n+1):\n",
    "        print(\" \"*(n-i) + (i*2-1)*\"*\")\n",
    "    for i in range(1,n):\n",
    "        print(\" \"*(i) + \"*\"*((-i+(n))*2-1))\n",
    "\n",
    "pyramid(10)"
   ]
  },
  {
   "cell_type": "markdown",
   "metadata": {},
   "source": [
    "# Q2. 刪除重複性資料\n",
    "\n",
    "從 symbols01.txt 跟 symbols02.txt 讀入兩組股票代號，合併兩組代號，輸出一份無重複的股票代號到 symbols03.txt。"
   ]
  },
  {
   "cell_type": "code",
   "execution_count": 909,
   "metadata": {},
   "outputs": [],
   "source": [
    "a = open(\"symbols01.txt\",\"r\")\n",
    "data_a = a.readlines()              #依序讀取每行\n",
    "b = open(\"symbols02.txt\",\"r\")\n",
    "data_b = b.readlines() "
   ]
  },
  {
   "cell_type": "code",
   "execution_count": 910,
   "metadata": {},
   "outputs": [],
   "source": [
    "for i in range(0,len(data_a)):\n",
    "    data_a[i] = data_a[i].replace(\"\\n\",\"\")     #將\\n刪掉\n",
    "for i in range(0,len(data_b)):\n",
    "    data_b[i] = data_b[i].replace(\"\\n\",\"\")"
   ]
  },
  {
   "cell_type": "code",
   "execution_count": 911,
   "metadata": {},
   "outputs": [],
   "source": [
    "data_c = set(data_a + data_b)"
   ]
  },
  {
   "cell_type": "code",
   "execution_count": 912,
   "metadata": {
    "collapsed": true
   },
   "outputs": [],
   "source": [
    "with open('symbols03.txt', 'w') as f:             #存取symbols03.txt\n",
    "    for symbol in data_c:\n",
    "        f.write(symbol.strip().upper() + \"\\n\")"
   ]
  },
  {
   "cell_type": "markdown",
   "metadata": {},
   "source": [
    "# Q3. 下載台灣上市公司基本資料"
   ]
  },
  {
   "cell_type": "markdown",
   "metadata": {},
   "source": [
    "寫一個程式從 [http://dts.twse.com.tw/opendata/t187ap03_L.csv](http://dts.twse.com.tw/opendata/t187ap03_L.csv) 下載台灣上市公司基本資料，並輸出成 pandas dataframe。"
   ]
  },
  {
   "cell_type": "code",
   "execution_count": 913,
   "metadata": {},
   "outputs": [],
   "source": [
    "url = \"http://dts.twse.com.tw/opendata/t187ap03_L.csv\"\n",
    "r = requests.get(url)"
   ]
  },
  {
   "cell_type": "code",
   "execution_count": 914,
   "metadata": {},
   "outputs": [],
   "source": [
    "r.encoding = \"BIG5\""
   ]
  },
  {
   "cell_type": "code",
   "execution_count": 917,
   "metadata": {},
   "outputs": [
    {
     "data": {
      "text/html": [
       "<div>\n",
       "<style>\n",
       "    .dataframe thead tr:only-child th {\n",
       "        text-align: right;\n",
       "    }\n",
       "\n",
       "    .dataframe thead th {\n",
       "        text-align: left;\n",
       "    }\n",
       "\n",
       "    .dataframe tbody tr th {\n",
       "        vertical-align: top;\n",
       "    }\n",
       "</style>\n",
       "<table border=\"1\" class=\"dataframe\">\n",
       "  <thead>\n",
       "    <tr style=\"text-align: right;\">\n",
       "      <th></th>\n",
       "      <th>公司代號</th>\n",
       "      <th>公司名稱</th>\n",
       "      <th>產業別</th>\n",
       "      <th>住址</th>\n",
       "      <th>營利事業統一編號</th>\n",
       "      <th>董事長</th>\n",
       "      <th>總經理</th>\n",
       "      <th>發言人</th>\n",
       "      <th>發言人職稱</th>\n",
       "      <th>代理發言人</th>\n",
       "      <th>...</th>\n",
       "      <th>特別股</th>\n",
       "      <th>編制財務報表類型</th>\n",
       "      <th>股票過戶機構</th>\n",
       "      <th>過戶電話</th>\n",
       "      <th>過戶地址</th>\n",
       "      <th>英文簡稱</th>\n",
       "      <th>英文通訊地址</th>\n",
       "      <th>傳真機號碼</th>\n",
       "      <th>電子郵件信箱</th>\n",
       "      <th>網址</th>\n",
       "    </tr>\n",
       "  </thead>\n",
       "  <tbody>\n",
       "    <tr>\n",
       "      <th>1101</th>\n",
       "      <td>台灣水泥股份有限公司</td>\n",
       "      <td>水泥工業</td>\n",
       "      <td>台北市中山北路2段113號</td>\n",
       "      <td>11913502.0</td>\n",
       "      <td>張安平</td>\n",
       "      <td>李鐘培</td>\n",
       "      <td>黃健強</td>\n",
       "      <td>資深副總經理</td>\n",
       "      <td>蔡立文</td>\n",
       "      <td>(02)2531-7099</td>\n",
       "      <td>...</td>\n",
       "      <td>1.0</td>\n",
       "      <td>中國信託商業銀行代理部</td>\n",
       "      <td>66365566</td>\n",
       "      <td>台北市重慶南路一段83號5樓</td>\n",
       "      <td>TCC</td>\n",
       "      <td>No.113, Sec.2, Zhongshan N. Rd.,Taipei City 10...</td>\n",
       "      <td>(02)2531-6529</td>\n",
       "      <td>finance@taiwancement.com</td>\n",
       "      <td>http://www.taiwancement.com</td>\n",
       "      <td>NaN</td>\n",
       "    </tr>\n",
       "  </tbody>\n",
       "</table>\n",
       "<p>1 rows × 26 columns</p>\n",
       "</div>"
      ],
      "text/plain": [
       "            公司代號  公司名稱            產業別          住址 營利事業統一編號  董事長  總經理     發言人  \\\n",
       "1101  台灣水泥股份有限公司  水泥工業  台北市中山北路2段113號  11913502.0      張安平  李鐘培  黃健強  資深副總經理   \n",
       "\n",
       "     發言人職稱          代理發言人 ...  特別股     編制財務報表類型    股票過戶機構            過戶電話  \\\n",
       "1101   蔡立文  (02)2531-7099 ...  1.0  中國信託商業銀行代理部  66365566  台北市重慶南路一段83號5樓   \n",
       "\n",
       "      過戶地址                                               英文簡稱         英文通訊地址  \\\n",
       "1101   TCC  No.113, Sec.2, Zhongshan N. Rd.,Taipei City 10...  (02)2531-6529   \n",
       "\n",
       "                         傳真機號碼                       電子郵件信箱 網址   \n",
       "1101  finance@taiwancement.com  http://www.taiwancement.com NaN  \n",
       "\n",
       "[1 rows x 26 columns]"
      ]
     },
     "execution_count": 917,
     "metadata": {},
     "output_type": "execute_result"
    }
   ],
   "source": [
    "company_data = pd.read_csv(StringIO(r.text) , header=1)\n",
    "company_data.head(1)"
   ]
  },
  {
   "cell_type": "code",
   "execution_count": 918,
   "metadata": {},
   "outputs": [],
   "source": [
    "company_data.columns = ['公司名稱', '產業別', '住址', '營利事業統一編號', '董事長'\n",
    "                        , '總經理', '發言人', '發言人職稱','代理發言人', '總機電話\"'\n",
    "                        , '成立日期', '上市日期', '普通股每股面額', '實收資本額', '私募股數'\n",
    "                        , '特別股','編制財務報表類型', '股票過戶機構', '過戶電話', '過戶地址'\n",
    "                        , '英文簡稱', '英文通訊地址', '傳真機號碼','電子郵件信箱', '網址' , '空的']\n",
    "company_data = company_data.drop('空的',axis = 1)            #重新命名行頭來對齊，並刪除最後一行"
   ]
  },
  {
   "cell_type": "code",
   "execution_count": 919,
   "metadata": {},
   "outputs": [
    {
     "data": {
      "text/html": [
       "<div>\n",
       "<style>\n",
       "    .dataframe thead tr:only-child th {\n",
       "        text-align: right;\n",
       "    }\n",
       "\n",
       "    .dataframe thead th {\n",
       "        text-align: left;\n",
       "    }\n",
       "\n",
       "    .dataframe tbody tr th {\n",
       "        vertical-align: top;\n",
       "    }\n",
       "</style>\n",
       "<table border=\"1\" class=\"dataframe\">\n",
       "  <thead>\n",
       "    <tr style=\"text-align: right;\">\n",
       "      <th></th>\n",
       "      <th>公司名稱</th>\n",
       "      <th>產業別</th>\n",
       "      <th>住址</th>\n",
       "      <th>營利事業統一編號</th>\n",
       "      <th>董事長</th>\n",
       "      <th>總經理</th>\n",
       "      <th>發言人</th>\n",
       "      <th>發言人職稱</th>\n",
       "      <th>代理發言人</th>\n",
       "      <th>總機電話\"</th>\n",
       "      <th>...</th>\n",
       "      <th>特別股</th>\n",
       "      <th>編制財務報表類型</th>\n",
       "      <th>股票過戶機構</th>\n",
       "      <th>過戶電話</th>\n",
       "      <th>過戶地址</th>\n",
       "      <th>英文簡稱</th>\n",
       "      <th>英文通訊地址</th>\n",
       "      <th>傳真機號碼</th>\n",
       "      <th>電子郵件信箱</th>\n",
       "      <th>網址</th>\n",
       "    </tr>\n",
       "  </thead>\n",
       "  <tbody>\n",
       "    <tr>\n",
       "      <th>1101</th>\n",
       "      <td>台灣水泥股份有限公司</td>\n",
       "      <td>水泥工業</td>\n",
       "      <td>台北市中山北路2段113號</td>\n",
       "      <td>11913502.0</td>\n",
       "      <td>張安平</td>\n",
       "      <td>李鐘培</td>\n",
       "      <td>黃健強</td>\n",
       "      <td>資深副總經理</td>\n",
       "      <td>蔡立文</td>\n",
       "      <td>(02)2531-7099</td>\n",
       "      <td>...</td>\n",
       "      <td>0.0</td>\n",
       "      <td>1.0</td>\n",
       "      <td>中國信託商業銀行代理部</td>\n",
       "      <td>66365566</td>\n",
       "      <td>台北市重慶南路一段83號5樓</td>\n",
       "      <td>TCC</td>\n",
       "      <td>No.113, Sec.2, Zhongshan N. Rd.,Taipei City 10...</td>\n",
       "      <td>(02)2531-6529</td>\n",
       "      <td>finance@taiwancement.com</td>\n",
       "      <td>http://www.taiwancement.com</td>\n",
       "    </tr>\n",
       "  </tbody>\n",
       "</table>\n",
       "<p>1 rows × 25 columns</p>\n",
       "</div>"
      ],
      "text/plain": [
       "            公司名稱   產業別             住址    營利事業統一編號  董事長  總經理  發言人   發言人職稱  \\\n",
       "1101  台灣水泥股份有限公司  水泥工業  台北市中山北路2段113號  11913502.0  張安平  李鐘培  黃健強  資深副總經理   \n",
       "\n",
       "     代理發言人          總機電話\"             ...               特別股  編制財務報表類型  \\\n",
       "1101   蔡立文  (02)2531-7099             ...               0.0       1.0   \n",
       "\n",
       "           股票過戶機構      過戶電話            過戶地址  英文簡稱  \\\n",
       "1101  中國信託商業銀行代理部  66365566  台北市重慶南路一段83號5樓   TCC   \n",
       "\n",
       "                                                 英文通訊地址          傳真機號碼  \\\n",
       "1101  No.113, Sec.2, Zhongshan N. Rd.,Taipei City 10...  (02)2531-6529   \n",
       "\n",
       "                        電子郵件信箱                           網址  \n",
       "1101  finance@taiwancement.com  http://www.taiwancement.com  \n",
       "\n",
       "[1 rows x 25 columns]"
      ]
     },
     "execution_count": 919,
     "metadata": {},
     "output_type": "execute_result"
    }
   ],
   "source": [
    "company_data.head(1)"
   ]
  },
  {
   "cell_type": "markdown",
   "metadata": {},
   "source": [
    "# Q4. 畫出技術曲線\n",
    "\n",
    "請畫出除了上課提過的線型之外的任何技術曲線，並寫註解說明。"
   ]
  },
  {
   "cell_type": "code",
   "execution_count": 920,
   "metadata": {
    "collapsed": true
   },
   "outputs": [],
   "source": [
    "df = data['GOOG']"
   ]
  },
  {
   "cell_type": "code",
   "execution_count": 921,
   "metadata": {},
   "outputs": [
    {
     "data": {
      "text/html": [
       "<div>\n",
       "<style>\n",
       "    .dataframe thead tr:only-child th {\n",
       "        text-align: right;\n",
       "    }\n",
       "\n",
       "    .dataframe thead th {\n",
       "        text-align: left;\n",
       "    }\n",
       "\n",
       "    .dataframe tbody tr th {\n",
       "        vertical-align: top;\n",
       "    }\n",
       "</style>\n",
       "<table border=\"1\" class=\"dataframe\">\n",
       "  <thead>\n",
       "    <tr style=\"text-align: right;\">\n",
       "      <th></th>\n",
       "      <th>Open</th>\n",
       "      <th>High</th>\n",
       "      <th>Low</th>\n",
       "      <th>Close</th>\n",
       "      <th>Adj Close</th>\n",
       "      <th>Volume</th>\n",
       "    </tr>\n",
       "    <tr>\n",
       "      <th>Date</th>\n",
       "      <th></th>\n",
       "      <th></th>\n",
       "      <th></th>\n",
       "      <th></th>\n",
       "      <th></th>\n",
       "      <th></th>\n",
       "    </tr>\n",
       "  </thead>\n",
       "  <tbody>\n",
       "    <tr>\n",
       "      <th>2015-12-31</th>\n",
       "      <td>769.500000</td>\n",
       "      <td>769.500000</td>\n",
       "      <td>758.340027</td>\n",
       "      <td>758.880005</td>\n",
       "      <td>758.880005</td>\n",
       "      <td>1500900</td>\n",
       "    </tr>\n",
       "    <tr>\n",
       "      <th>2016-01-04</th>\n",
       "      <td>743.000000</td>\n",
       "      <td>744.059998</td>\n",
       "      <td>731.257996</td>\n",
       "      <td>741.840027</td>\n",
       "      <td>741.840027</td>\n",
       "      <td>3272800</td>\n",
       "    </tr>\n",
       "    <tr>\n",
       "      <th>2016-01-05</th>\n",
       "      <td>746.450012</td>\n",
       "      <td>752.000000</td>\n",
       "      <td>738.640015</td>\n",
       "      <td>742.580017</td>\n",
       "      <td>742.580017</td>\n",
       "      <td>1950700</td>\n",
       "    </tr>\n",
       "    <tr>\n",
       "      <th>2016-01-06</th>\n",
       "      <td>730.000000</td>\n",
       "      <td>747.179993</td>\n",
       "      <td>728.919983</td>\n",
       "      <td>743.619995</td>\n",
       "      <td>743.619995</td>\n",
       "      <td>1947000</td>\n",
       "    </tr>\n",
       "    <tr>\n",
       "      <th>2016-01-07</th>\n",
       "      <td>730.309998</td>\n",
       "      <td>738.500000</td>\n",
       "      <td>719.059998</td>\n",
       "      <td>726.390015</td>\n",
       "      <td>726.390015</td>\n",
       "      <td>2963700</td>\n",
       "    </tr>\n",
       "  </tbody>\n",
       "</table>\n",
       "</div>"
      ],
      "text/plain": [
       "                  Open        High         Low       Close   Adj Close  \\\n",
       "Date                                                                     \n",
       "2015-12-31  769.500000  769.500000  758.340027  758.880005  758.880005   \n",
       "2016-01-04  743.000000  744.059998  731.257996  741.840027  741.840027   \n",
       "2016-01-05  746.450012  752.000000  738.640015  742.580017  742.580017   \n",
       "2016-01-06  730.000000  747.179993  728.919983  743.619995  743.619995   \n",
       "2016-01-07  730.309998  738.500000  719.059998  726.390015  726.390015   \n",
       "\n",
       "             Volume  \n",
       "Date                 \n",
       "2015-12-31  1500900  \n",
       "2016-01-04  3272800  \n",
       "2016-01-05  1950700  \n",
       "2016-01-06  1947000  \n",
       "2016-01-07  2963700  "
      ]
     },
     "execution_count": 921,
     "metadata": {},
     "output_type": "execute_result"
    }
   ],
   "source": [
    "df.head()"
   ]
  },
  {
   "cell_type": "code",
   "execution_count": 922,
   "metadata": {
    "collapsed": true
   },
   "outputs": [],
   "source": [
    "# 計算均線\n",
    "df['20d'] = pd.Series.rolling(df['Close'], window=20).mean()\n",
    "df['60d'] = pd.Series.rolling(df['Close'], window=60).mean()"
   ]
  },
  {
   "cell_type": "code",
   "execution_count": 923,
   "metadata": {},
   "outputs": [
    {
     "data": {
      "text/plain": [
       "<matplotlib.axes._subplots.AxesSubplot at 0x1a2b9da0>"
      ]
     },
     "execution_count": 923,
     "metadata": {},
     "output_type": "execute_result"
    },
    {
     "data": {
      "image/png": "[encoded data removed]",
      "text/plain": [
       "<matplotlib.figure.Figure at 0x1b7e4898>"
      ]
     },
     "metadata": {},
     "output_type": "display_data"
    }
   ],
   "source": [
    "df[['Close', '20d', '60d']].plot(legend='best', figsize=(10,8))"
   ]
  },
  {
   "cell_type": "code",
   "execution_count": 924,
   "metadata": {
    "collapsed": true
   },
   "outputs": [],
   "source": [
    "#計算MACD\n",
    "#快線 (DIF) 向上突破 慢線 (MACD) → 買進訊號\n",
    "#快線 (DIF) 向下跌破 慢線 (MACD) → 賣出訊號\n",
    "macd, macdsignal, macdhist = talib.MACD(df[\"Close\"].values, fastperiod=12, slowperiod=26, signalperiod=9)"
   ]
  },
  {
   "cell_type": "code",
   "execution_count": 925,
   "metadata": {
    "collapsed": true
   },
   "outputs": [],
   "source": [
    "df[\"DIF\"] = macd"
   ]
  },
  {
   "cell_type": "code",
   "execution_count": 926,
   "metadata": {
    "collapsed": true
   },
   "outputs": [],
   "source": [
    "df[\"MACD\"] = macdsignal"
   ]
  },
  {
   "cell_type": "code",
   "execution_count": 927,
   "metadata": {
    "collapsed": true
   },
   "outputs": [],
   "source": [
    "df[\"DIF-MACD\"] = macdhist"
   ]
  },
  {
   "cell_type": "code",
   "execution_count": 928,
   "metadata": {},
   "outputs": [
    {
     "name": "stderr",
     "output_type": "stream",
     "text": [
      "C:\\Users\\TheOne\\Anaconda3\\lib\\site-packages\\matplotlib\\__init__.py:1710: MatplotlibDeprecationWarning: The *left* kwarg to `bar` is deprecated use *x* instead. Support for *left* will be removed in Matplotlib 3.0\n",
      "  return func(ax, *args, **kwargs)\n"
     ]
    },
    {
     "data": {
      "text/plain": [
       "<matplotlib.axes._subplots.AxesSubplot at 0x19fdb2b0>"
      ]
     },
     "execution_count": 928,
     "metadata": {},
     "output_type": "execute_result"
    },
    {
     "data": {
      "image/png": "[encoded data removed]",
      "text/plain": [
       "<matplotlib.figure.Figure at 0x19f7cda0>"
      ]
     },
     "metadata": {},
     "output_type": "display_data"
    },
    {
     "data": {
      "image/png": "[encoded data removed]",
      "text/plain": [
       "<matplotlib.figure.Figure at 0x19fdba58>"
      ]
     },
     "metadata": {},
     "output_type": "display_data"
    }
   ],
   "source": [
    "plt.subplot(212)\n",
    "plt.bar(left = range(0,50) , height = df[\"DIF-MACD\"][-50:].values , width = 0.5 , align=\"center\")\n",
    "df[['DIF', 'MACD']][-50:].plot(legend='best')"
   ]
  },
  {
   "cell_type": "code",
   "execution_count": 929,
   "metadata": {},
   "outputs": [],
   "source": [
    "#計算OBV - On Balance Volume 能量潮指標\n",
    "float_volume = [float(x) for x in df[\"Volume\"].values]\n",
    "np_float_volume = np.array(float_volume)                      #將Volume變成浮動\n",
    "obv = talib.OBV(df[\"Close\"].values , np_float_volume)"
   ]
  },
  {
   "cell_type": "code",
   "execution_count": 930,
   "metadata": {},
   "outputs": [],
   "source": [
    "df[\"OBV\"] = obv"
   ]
  },
  {
   "cell_type": "code",
   "execution_count": 931,
   "metadata": {},
   "outputs": [
    {
     "name": "stderr",
     "output_type": "stream",
     "text": [
      "C:\\Users\\TheOne\\Anaconda3\\lib\\site-packages\\matplotlib\\__init__.py:1710: MatplotlibDeprecationWarning: The *left* kwarg to `bar` is deprecated use *x* instead. Support for *left* will be removed in Matplotlib 3.0\n",
      "  return func(ax, *args, **kwargs)\n"
     ]
    },
    {
     "data": {
      "text/plain": [
       "<Container object of 50 artists>"
      ]
     },
     "execution_count": 931,
     "metadata": {},
     "output_type": "execute_result"
    },
    {
     "data": {
      "image/png": "[encoded data removed]",
      "text/plain": [
       "<matplotlib.figure.Figure at 0x1b9c50f0>"
      ]
     },
     "metadata": {},
     "output_type": "display_data"
    }
   ],
   "source": [
    "plt.bar(left = range(0,50) , height = df[\"OBV\"][:50].values , width = 0.5 , align=\"center\")"
   ]
  },
  {
   "cell_type": "markdown",
   "metadata": {},
   "source": [
    "# Q5. 策略回測"
   ]
  },
  {
   "cell_type": "code",
   "execution_count": 932,
   "metadata": {
    "collapsed": true
   },
   "outputs": [],
   "source": [
    "# 計算 MaxDD\n",
    "def DrawDownAnalysis(cumRet):\n",
    "    dd_series = ffn.core.to_drawdown_series(cumRet)\n",
    "    dd_details = ffn.core.drawdown_details(dd_series)\n",
    "    return dd_details['drawdown'].min(), dd_details['days'].max()"
   ]
  },
  {
   "cell_type": "code",
   "execution_count": 933,
   "metadata": {
    "collapsed": true
   },
   "outputs": [],
   "source": [
    "# 利用策略產生的持有部位資訊，計算底下四個指標來判斷投資績效\n",
    "# sharpe ratio: 判斷報酬的好壞跟穩定度，數值越大越好\n",
    "# maxdd: maximum drawdown, 最糟糕的狀況會賠幾 %\n",
    "# maxddd: maximum drawdown duration, 低於上一次最高報酬的天數\n",
    "# cumRet[-1]: 最後賺的 % 數\n",
    "\n",
    "def indicators(df):\n",
    "    dailyRet = df['Close'].pct_change()\n",
    "    excessRet = (dailyRet - 0.04/252)[df['positions'] == 1]\n",
    "    SharpeRatio = np.sqrt(252.0)*np.mean(excessRet)/np.std(excessRet)\n",
    "    \n",
    "    cumRet = np.cumprod(1+excessRet)\n",
    "    \n",
    "    maxdd, maxddd = DrawDownAnalysis(cumRet)\n",
    "    \n",
    "    return SharpeRatio, maxdd, maxddd, cumRet[-1]"
   ]
  },
  {
   "cell_type": "code",
   "execution_count": 934,
   "metadata": {
    "collapsed": true
   },
   "outputs": [],
   "source": [
    "# 這是我們的策略的部分\n",
    "# 主要只是要算出進出的訊號 signals 跟何時持有部位 positions\n",
    "# 底下是一個突破系統的範例\n",
    "\n",
    "def Breakout_strategy(df):\n",
    "    # Donchian Channel\n",
    "    df['20d_high'] = np.round(pd.Series.rolling(df['Close'], window=20).max(), 2)\n",
    "    df['10d_low'] = np.round(pd.Series.rolling(df['Close'], window=10).min(), 2)\n",
    "\n",
    "    has_position = False\n",
    "    df['signals'] = 0\n",
    "    for t in range(2, df['signals'].size):\n",
    "        if df['Close'][t] > df['20d_high'][t-1]:\n",
    "            if not has_position:\n",
    "                df.loc[df.index[t], 'signals'] = 1\n",
    "                has_position = True\n",
    "        elif df['Close'][t] < df['10d_low'][t-1]:\n",
    "            if has_position:\n",
    "                df.loc[df.index[t], 'signals'] = -1\n",
    "                has_position = False\n",
    "\n",
    "    df['positions'] = df['signals'].cumsum().shift()\n",
    "    return df"
   ]
  },
  {
   "cell_type": "code",
   "execution_count": 935,
   "metadata": {
    "collapsed": true
   },
   "outputs": [],
   "source": [
    "def RSI_7030_strategy(df):\n",
    "    df['RSI'] = talib.RSI(df['Close'].values)\n",
    "    \n",
    "    has_position = False\n",
    "    df['signals'] = 0\n",
    "    for t in range(2, df['signals'].size):\n",
    "        if df['RSI'][t-1] < 30:\n",
    "            if not has_position:\n",
    "                df.loc[df.index[t], 'signals'] = 1\n",
    "                has_position = True\n",
    "        elif df['RSI'][t-1] > 70:\n",
    "            if has_position:\n",
    "                df.loc[df.index[t], 'signals'] = -1\n",
    "                has_position = False\n",
    "\n",
    "    df['positions'] = df['signals'].cumsum().shift()\n",
    "    return df"
   ]
  },
  {
   "cell_type": "code",
   "execution_count": 936,
   "metadata": {
    "collapsed": true
   },
   "outputs": [],
   "source": [
    "def BBands_strategy(df):\n",
    "    df['UBB'], df['MBB'], df['LBB'] = talib.BBANDS(df['Close'].values, matype=MA_Type.T3)\n",
    "\n",
    "    has_position = False\n",
    "    df['signals'] = 0\n",
    "    for t in range(2, df['signals'].size):\n",
    "        if df['Close'][t] < df['LBB'][t-1]:\n",
    "            if not has_position:\n",
    "                df.loc[df.index[t], 'signals'] = 1\n",
    "                has_position = True\n",
    "        elif df['Close'][t] > df['UBB'][t-1]:\n",
    "            if has_position:\n",
    "                df.loc[df.index[t], 'signals'] = -1\n",
    "                has_position = False\n",
    "\n",
    "    df['positions'] = df['signals'].cumsum().shift()\n",
    "    return df"
   ]
  },
  {
   "cell_type": "code",
   "execution_count": 937,
   "metadata": {},
   "outputs": [],
   "source": [
    "# 跳空\n",
    "\n",
    "def B034030054_strategy(df):\n",
    "    df['DIF'], df['MACD'], df['DIF-MACD'] = talib.MACD(df[\"Close\"].values, fastperiod=12, slowperiod=26, signalperiod=9)\n",
    "    df['5MA'] = pd.Series.rolling(df['Close'], window=5).mean()\n",
    "    \n",
    "    has_position = False\n",
    "    df['signals'] = 0\n",
    "    for t in range(2, df['signals'].size):\n",
    "        if df['Low'][t] > df['High'][t-1] and df['Close'][t] > df['Open'][t] and df['Volume'][t] > df['Volume'][t-1]*1.2:\n",
    "            #當天為紅棒且跳空，成交量比前一天多20%\n",
    "        #if df['Close'][t-1] < df['Close'][t-2] and df['Close'][t-2] < df['Close'][t-3] and df['Close'][t] > df['Open'][t] and df['Volume'][t] > df['Volume'][t-1]*1.5:\n",
    "        #if df['Close'][t] > df['Open'][t] and df['Close'][t] > np.nanmax((df['Low'][t-1],df['Low'][t-2],df['Low'][t-3],df['Low'][t-4],df['Low'][t-5])):\n",
    "            if not has_position:\n",
    "                df.loc[df.index[t], 'signals'] = 1\n",
    "                has_position = True\n",
    "        elif df['Close'][t] < df['5MA'][t]:\n",
    "            #當購買後的收盤價小於5M，則賣出\n",
    "        #elif df['DIF-MACD'][t] < 0 and df['DIF-MACD'][t-1] > 0:\n",
    "            if has_position:\n",
    "                df.loc[df.index[t], 'signals'] = -1\n",
    "                has_position = False\n",
    "    \n",
    "    df['positions'] = df['signals'].cumsum().shift()\n",
    "    return df"
   ]
  },
  {
   "cell_type": "code",
   "execution_count": 938,
   "metadata": {
    "collapsed": true
   },
   "outputs": [],
   "source": [
    "def apply_strategy(strategy, df):\n",
    "    return strategy(df)"
   ]
  },
  {
   "cell_type": "code",
   "execution_count": 939,
   "metadata": {},
   "outputs": [
    {
     "name": "stdout",
     "output_type": "stream",
     "text": [
      "Symbol: UTMD 使用 B034030054_strategy 策略沒有出現買賣訊號。\n"
     ]
    }
   ],
   "source": [
    "# 計算各支股票的回測結果\n",
    "results = []\n",
    "\n",
    "#strategies = [Breakout_strategy, RSI_7030_strategy, BBands_strategy, 學號_strategy]\n",
    "strategies = [Breakout_strategy, RSI_7030_strategy, BBands_strategy, B034030054_strategy]\n",
    "\n",
    "for symbol in data:\n",
    "    for strategy in strategies:\n",
    "        try:\n",
    "            apply_strategy(strategy, data[symbol])\n",
    "            if np.all(data[symbol]['signals']==0):\n",
    "                print(\"Symbol:\", symbol, \"使用\", strategy.__name__, \"策略沒有出現買賣訊號。\")\n",
    "                continue\n",
    "            SharpeRatio, maxdd, maxddd, finalRet = indicators(data[symbol])\n",
    "            days = (data[symbol].index[-1] - data[symbol].index[0]).days\n",
    "            results.append((SharpeRatio, maxdd, maxddd, finalRet, days,\n",
    "                            data[symbol][data[symbol]['signals'] > 0]['signals'].sum(), symbol, strategy.__name__))\n",
    "        except Exception as e:\n",
    "            print(\"Error occurs at symbol:\", symbol, \"Strategy:\", strategy.__name__, \"==>\", e.args)"
   ]
  },
  {
   "cell_type": "code",
   "execution_count": 940,
   "metadata": {
    "collapsed": true
   },
   "outputs": [],
   "source": [
    "results_df = pd.DataFrame(results, columns=['sharpe','MaxDrawDown','MaxDrawDownDuration','returns', \n",
    "                                            'days', 'entries','symbol','strategy'])"
   ]
  },
  {
   "cell_type": "code",
   "execution_count": 941,
   "metadata": {},
   "outputs": [
    {
     "data": {
      "text/html": [
       "<div>\n",
       "<style>\n",
       "    .dataframe thead tr:only-child th {\n",
       "        text-align: right;\n",
       "    }\n",
       "\n",
       "    .dataframe thead th {\n",
       "        text-align: left;\n",
       "    }\n",
       "\n",
       "    .dataframe tbody tr th {\n",
       "        vertical-align: top;\n",
       "    }\n",
       "</style>\n",
       "<table border=\"1\" class=\"dataframe\">\n",
       "  <thead>\n",
       "    <tr style=\"text-align: right;\">\n",
       "      <th></th>\n",
       "      <th>sharpe</th>\n",
       "      <th>MaxDrawDown</th>\n",
       "      <th>MaxDrawDownDuration</th>\n",
       "      <th>returns</th>\n",
       "      <th>days</th>\n",
       "      <th>entries</th>\n",
       "      <th>symbol</th>\n",
       "      <th>strategy</th>\n",
       "    </tr>\n",
       "  </thead>\n",
       "  <tbody>\n",
       "    <tr>\n",
       "      <th>0</th>\n",
       "      <td>0.131503</td>\n",
       "      <td>-0.208296</td>\n",
       "      <td>281</td>\n",
       "      <td>0.995734</td>\n",
       "      <td>705</td>\n",
       "      <td>11</td>\n",
       "      <td>TICC</td>\n",
       "      <td>Breakout_strategy</td>\n",
       "    </tr>\n",
       "    <tr>\n",
       "      <th>1</th>\n",
       "      <td>0.395515</td>\n",
       "      <td>-0.244817</td>\n",
       "      <td>482</td>\n",
       "      <td>1.077756</td>\n",
       "      <td>705</td>\n",
       "      <td>2</td>\n",
       "      <td>TICC</td>\n",
       "      <td>RSI_7030_strategy</td>\n",
       "    </tr>\n",
       "    <tr>\n",
       "      <th>2</th>\n",
       "      <td>0.102787</td>\n",
       "      <td>-0.231763</td>\n",
       "      <td>426</td>\n",
       "      <td>0.984521</td>\n",
       "      <td>705</td>\n",
       "      <td>20</td>\n",
       "      <td>TICC</td>\n",
       "      <td>BBands_strategy</td>\n",
       "    </tr>\n",
       "    <tr>\n",
       "      <th>3</th>\n",
       "      <td>-1.093403</td>\n",
       "      <td>-0.029629</td>\n",
       "      <td>360</td>\n",
       "      <td>0.985956</td>\n",
       "      <td>705</td>\n",
       "      <td>3</td>\n",
       "      <td>TICC</td>\n",
       "      <td>B034030054_strategy</td>\n",
       "    </tr>\n",
       "    <tr>\n",
       "      <th>4</th>\n",
       "      <td>1.365570</td>\n",
       "      <td>-0.361485</td>\n",
       "      <td>299</td>\n",
       "      <td>1.631388</td>\n",
       "      <td>705</td>\n",
       "      <td>12</td>\n",
       "      <td>TWIN</td>\n",
       "      <td>Breakout_strategy</td>\n",
       "    </tr>\n",
       "  </tbody>\n",
       "</table>\n",
       "</div>"
      ],
      "text/plain": [
       "     sharpe  MaxDrawDown  MaxDrawDownDuration   returns  days  entries symbol  \\\n",
       "0  0.131503    -0.208296                  281  0.995734   705       11   TICC   \n",
       "1  0.395515    -0.244817                  482  1.077756   705        2   TICC   \n",
       "2  0.102787    -0.231763                  426  0.984521   705       20   TICC   \n",
       "3 -1.093403    -0.029629                  360  0.985956   705        3   TICC   \n",
       "4  1.365570    -0.361485                  299  1.631388   705       12   TWIN   \n",
       "\n",
       "              strategy  \n",
       "0    Breakout_strategy  \n",
       "1    RSI_7030_strategy  \n",
       "2      BBands_strategy  \n",
       "3  B034030054_strategy  \n",
       "4    Breakout_strategy  "
      ]
     },
     "execution_count": 941,
     "metadata": {},
     "output_type": "execute_result"
    }
   ],
   "source": [
    "results_df.head()"
   ]
  },
  {
   "cell_type": "code",
   "execution_count": 942,
   "metadata": {},
   "outputs": [
    {
     "data": {
      "text/html": [
       "<div>\n",
       "<style>\n",
       "    .dataframe thead tr:only-child th {\n",
       "        text-align: right;\n",
       "    }\n",
       "\n",
       "    .dataframe thead th {\n",
       "        text-align: left;\n",
       "    }\n",
       "\n",
       "    .dataframe tbody tr th {\n",
       "        vertical-align: top;\n",
       "    }\n",
       "</style>\n",
       "<table border=\"1\" class=\"dataframe\">\n",
       "  <thead>\n",
       "    <tr style=\"text-align: right;\">\n",
       "      <th></th>\n",
       "      <th>sharpe</th>\n",
       "      <th>MaxDrawDown</th>\n",
       "      <th>MaxDrawDownDuration</th>\n",
       "      <th>returns</th>\n",
       "      <th>days</th>\n",
       "      <th>entries</th>\n",
       "      <th>symbol</th>\n",
       "      <th>strategy</th>\n",
       "    </tr>\n",
       "  </thead>\n",
       "  <tbody>\n",
       "    <tr>\n",
       "      <th>110</th>\n",
       "      <td>-1.674799</td>\n",
       "      <td>-0.003281</td>\n",
       "      <td>2</td>\n",
       "      <td>0.995803</td>\n",
       "      <td>705</td>\n",
       "      <td>2</td>\n",
       "      <td>NEWT</td>\n",
       "      <td>B034030054_strategy</td>\n",
       "    </tr>\n",
       "    <tr>\n",
       "      <th>72</th>\n",
       "      <td>6.306176</td>\n",
       "      <td>-0.003654</td>\n",
       "      <td>122</td>\n",
       "      <td>1.028222</td>\n",
       "      <td>473</td>\n",
       "      <td>3</td>\n",
       "      <td>LCA</td>\n",
       "      <td>RSI_7030_strategy</td>\n",
       "    </tr>\n",
       "    <tr>\n",
       "      <th>17</th>\n",
       "      <td>10.243474</td>\n",
       "      <td>-0.006251</td>\n",
       "      <td>3</td>\n",
       "      <td>1.132402</td>\n",
       "      <td>705</td>\n",
       "      <td>1</td>\n",
       "      <td>GOOG</td>\n",
       "      <td>RSI_7030_strategy</td>\n",
       "    </tr>\n",
       "    <tr>\n",
       "      <th>73</th>\n",
       "      <td>2.038551</td>\n",
       "      <td>-0.013673</td>\n",
       "      <td>119</td>\n",
       "      <td>1.060527</td>\n",
       "      <td>473</td>\n",
       "      <td>16</td>\n",
       "      <td>LCA</td>\n",
       "      <td>BBands_strategy</td>\n",
       "    </tr>\n",
       "    <tr>\n",
       "      <th>23</th>\n",
       "      <td>4.131997</td>\n",
       "      <td>-0.016082</td>\n",
       "      <td>94</td>\n",
       "      <td>1.033598</td>\n",
       "      <td>705</td>\n",
       "      <td>3</td>\n",
       "      <td>TBNK</td>\n",
       "      <td>B034030054_strategy</td>\n",
       "    </tr>\n",
       "  </tbody>\n",
       "</table>\n",
       "</div>"
      ],
      "text/plain": [
       "        sharpe  MaxDrawDown  MaxDrawDownDuration   returns  days  entries  \\\n",
       "110  -1.674799    -0.003281                    2  0.995803   705        2   \n",
       "72    6.306176    -0.003654                  122  1.028222   473        3   \n",
       "17   10.243474    -0.006251                    3  1.132402   705        1   \n",
       "73    2.038551    -0.013673                  119  1.060527   473       16   \n",
       "23    4.131997    -0.016082                   94  1.033598   705        3   \n",
       "\n",
       "    symbol             strategy  \n",
       "110   NEWT  B034030054_strategy  \n",
       "72     LCA    RSI_7030_strategy  \n",
       "17    GOOG    RSI_7030_strategy  \n",
       "73     LCA      BBands_strategy  \n",
       "23    TBNK  B034030054_strategy  "
      ]
     },
     "execution_count": 942,
     "metadata": {},
     "output_type": "execute_result"
    }
   ],
   "source": [
    "results_df.sort_values('MaxDrawDown',ascending=False).head()"
   ]
  },
  {
   "cell_type": "code",
   "execution_count": 943,
   "metadata": {},
   "outputs": [
    {
     "data": {
      "text/html": [
       "<div>\n",
       "<style>\n",
       "    .dataframe thead tr:only-child th {\n",
       "        text-align: right;\n",
       "    }\n",
       "\n",
       "    .dataframe thead th {\n",
       "        text-align: left;\n",
       "    }\n",
       "\n",
       "    .dataframe tbody tr th {\n",
       "        vertical-align: top;\n",
       "    }\n",
       "</style>\n",
       "<table border=\"1\" class=\"dataframe\">\n",
       "  <thead>\n",
       "    <tr style=\"text-align: right;\">\n",
       "      <th></th>\n",
       "      <th>sharpe</th>\n",
       "      <th>MaxDrawDown</th>\n",
       "      <th>MaxDrawDownDuration</th>\n",
       "      <th>returns</th>\n",
       "      <th>days</th>\n",
       "      <th>entries</th>\n",
       "      <th>symbol</th>\n",
       "      <th>strategy</th>\n",
       "    </tr>\n",
       "  </thead>\n",
       "  <tbody>\n",
       "    <tr>\n",
       "      <th>9</th>\n",
       "      <td>2.013777</td>\n",
       "      <td>-0.219296</td>\n",
       "      <td>167</td>\n",
       "      <td>2.477803</td>\n",
       "      <td>705</td>\n",
       "      <td>4</td>\n",
       "      <td>AMOT</td>\n",
       "      <td>RSI_7030_strategy</td>\n",
       "    </tr>\n",
       "    <tr>\n",
       "      <th>14</th>\n",
       "      <td>2.062962</td>\n",
       "      <td>-0.286661</td>\n",
       "      <td>113</td>\n",
       "      <td>2.422460</td>\n",
       "      <td>705</td>\n",
       "      <td>22</td>\n",
       "      <td>CDZI</td>\n",
       "      <td>BBands_strategy</td>\n",
       "    </tr>\n",
       "    <tr>\n",
       "      <th>77</th>\n",
       "      <td>2.136744</td>\n",
       "      <td>-0.454342</td>\n",
       "      <td>191</td>\n",
       "      <td>2.400221</td>\n",
       "      <td>705</td>\n",
       "      <td>21</td>\n",
       "      <td>BBGI</td>\n",
       "      <td>BBands_strategy</td>\n",
       "    </tr>\n",
       "    <tr>\n",
       "      <th>5</th>\n",
       "      <td>2.424484</td>\n",
       "      <td>-0.169115</td>\n",
       "      <td>115</td>\n",
       "      <td>2.151881</td>\n",
       "      <td>705</td>\n",
       "      <td>3</td>\n",
       "      <td>TWIN</td>\n",
       "      <td>RSI_7030_strategy</td>\n",
       "    </tr>\n",
       "    <tr>\n",
       "      <th>89</th>\n",
       "      <td>1.724711</td>\n",
       "      <td>-0.231083</td>\n",
       "      <td>481</td>\n",
       "      <td>1.717758</td>\n",
       "      <td>704</td>\n",
       "      <td>20</td>\n",
       "      <td>ISRL</td>\n",
       "      <td>BBands_strategy</td>\n",
       "    </tr>\n",
       "  </tbody>\n",
       "</table>\n",
       "</div>"
      ],
      "text/plain": [
       "      sharpe  MaxDrawDown  MaxDrawDownDuration   returns  days  entries  \\\n",
       "9   2.013777    -0.219296                  167  2.477803   705        4   \n",
       "14  2.062962    -0.286661                  113  2.422460   705       22   \n",
       "77  2.136744    -0.454342                  191  2.400221   705       21   \n",
       "5   2.424484    -0.169115                  115  2.151881   705        3   \n",
       "89  1.724711    -0.231083                  481  1.717758   704       20   \n",
       "\n",
       "   symbol           strategy  \n",
       "9    AMOT  RSI_7030_strategy  \n",
       "14   CDZI    BBands_strategy  \n",
       "77   BBGI    BBands_strategy  \n",
       "5    TWIN  RSI_7030_strategy  \n",
       "89   ISRL    BBands_strategy  "
      ]
     },
     "execution_count": 943,
     "metadata": {},
     "output_type": "execute_result"
    }
   ],
   "source": [
    "results_df.sort_values('returns',ascending=False).head()"
   ]
  }
 ],
 "metadata": {
  "kernelspec": {
   "display_name": "Python 3",
   "language": "python",
   "name": "python3"
  },
  "language_info": {
   "codemirror_mode": {
    "name": "ipython",
    "version": 3
   },
   "file_extension": ".py",
   "mimetype": "text/x-python",
   "name": "python",
   "nbconvert_exporter": "python",
   "pygments_lexer": "ipython3",
   "version": "3.6.3"
  }
 },
 "nbformat": 4,
 "nbformat_minor": 2
}
