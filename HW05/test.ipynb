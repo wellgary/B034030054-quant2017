{
 "cells": [
  {
   "cell_type": "code",
   "execution_count": 21,
   "metadata": {
    "collapsed": true
   },
   "outputs": [],
   "source": [
    "import requests\n",
    "import pandas as pd\n",
    "from datetime import datetime\n",
    "import io\n",
    "import pandas_datareader.data as web\n",
    "import kchart"
   ]
  },
  {
   "cell_type": "code",
   "execution_count": 22,
   "metadata": {
    "collapsed": true
   },
   "outputs": [],
   "source": [
    "def get_data(symbol,startdate):\n",
    "    url= \"http://finance.google.com/finance/historical\"\n",
    "    params = {}\n",
    "    params['q'] = symbol\n",
    "    params['startdate'] = startdate \n",
    "    params['output'] = 'csv'\n",
    "    r = requests.get(url , params = params)\n",
    "    return(r.text)"
   ]
  },
  {
   "cell_type": "code",
   "execution_count": 23,
   "metadata": {
    "collapsed": true
   },
   "outputs": [],
   "source": [
    "df = get_data('TSLA',datetime(2017,1,1))"
   ]
  },
  {
   "cell_type": "code",
   "execution_count": 24,
   "metadata": {
    "collapsed": true
   },
   "outputs": [],
   "source": [
    "data = pd.read_csv(io.StringIO(df))"
   ]
  },
  {
   "cell_type": "code",
   "execution_count": 25,
   "metadata": {},
   "outputs": [
    {
     "data": {
      "text/html": [
       "<div>\n",
       "<style>\n",
       "    .dataframe thead tr:only-child th {\n",
       "        text-align: right;\n",
       "    }\n",
       "\n",
       "    .dataframe thead th {\n",
       "        text-align: left;\n",
       "    }\n",
       "\n",
       "    .dataframe tbody tr th {\n",
       "        vertical-align: top;\n",
       "    }\n",
       "</style>\n",
       "<table border=\"1\" class=\"dataframe\">\n",
       "  <thead>\n",
       "    <tr style=\"text-align: right;\">\n",
       "      <th></th>\n",
       "      <th>Date</th>\n",
       "      <th>Open</th>\n",
       "      <th>High</th>\n",
       "      <th>Low</th>\n",
       "      <th>Close</th>\n",
       "      <th>Volume</th>\n",
       "    </tr>\n",
       "  </thead>\n",
       "  <tbody>\n",
       "    <tr>\n",
       "      <th>0</th>\n",
       "      <td>5-Dec-17</td>\n",
       "      <td>302.00</td>\n",
       "      <td>308.00</td>\n",
       "      <td>301.00</td>\n",
       "      <td>303.70</td>\n",
       "      <td>4646520</td>\n",
       "    </tr>\n",
       "    <tr>\n",
       "      <th>1</th>\n",
       "      <td>4-Dec-17</td>\n",
       "      <td>306.50</td>\n",
       "      <td>308.26</td>\n",
       "      <td>300.61</td>\n",
       "      <td>305.20</td>\n",
       "      <td>5835140</td>\n",
       "    </tr>\n",
       "    <tr>\n",
       "      <th>2</th>\n",
       "      <td>1-Dec-17</td>\n",
       "      <td>305.44</td>\n",
       "      <td>310.32</td>\n",
       "      <td>305.05</td>\n",
       "      <td>306.53</td>\n",
       "      <td>4292868</td>\n",
       "    </tr>\n",
       "    <tr>\n",
       "      <th>3</th>\n",
       "      <td>30-Nov-17</td>\n",
       "      <td>308.56</td>\n",
       "      <td>310.70</td>\n",
       "      <td>304.54</td>\n",
       "      <td>308.85</td>\n",
       "      <td>4351587</td>\n",
       "    </tr>\n",
       "    <tr>\n",
       "      <th>4</th>\n",
       "      <td>29-Nov-17</td>\n",
       "      <td>317.30</td>\n",
       "      <td>318.00</td>\n",
       "      <td>301.23</td>\n",
       "      <td>307.54</td>\n",
       "      <td>8767398</td>\n",
       "    </tr>\n",
       "  </tbody>\n",
       "</table>\n",
       "</div>"
      ],
      "text/plain": [
       "        Date    Open    High     Low   Close   Volume\n",
       "0   5-Dec-17  302.00  308.00  301.00  303.70  4646520\n",
       "1   4-Dec-17  306.50  308.26  300.61  305.20  5835140\n",
       "2   1-Dec-17  305.44  310.32  305.05  306.53  4292868\n",
       "3  30-Nov-17  308.56  310.70  304.54  308.85  4351587\n",
       "4  29-Nov-17  317.30  318.00  301.23  307.54  8767398"
      ]
     },
     "execution_count": 25,
     "metadata": {},
     "output_type": "execute_result"
    }
   ],
   "source": [
    "data.head()"
   ]
  },
  {
   "cell_type": "code",
   "execution_count": 26,
   "metadata": {
    "scrolled": true
   },
   "outputs": [
    {
     "data": {
      "text/html": [
       "<div>\n",
       "<style>\n",
       "    .dataframe thead tr:only-child th {\n",
       "        text-align: right;\n",
       "    }\n",
       "\n",
       "    .dataframe thead th {\n",
       "        text-align: left;\n",
       "    }\n",
       "\n",
       "    .dataframe tbody tr th {\n",
       "        vertical-align: top;\n",
       "    }\n",
       "</style>\n",
       "<table border=\"1\" class=\"dataframe\">\n",
       "  <thead>\n",
       "    <tr style=\"text-align: right;\">\n",
       "      <th></th>\n",
       "      <th>Date</th>\n",
       "      <th>Open</th>\n",
       "      <th>High</th>\n",
       "      <th>Low</th>\n",
       "      <th>Close</th>\n",
       "      <th>Volume</th>\n",
       "    </tr>\n",
       "  </thead>\n",
       "  <tbody>\n",
       "    <tr>\n",
       "      <th>229</th>\n",
       "      <td>9-Jan-17</td>\n",
       "      <td>228.97</td>\n",
       "      <td>231.92</td>\n",
       "      <td>228.00</td>\n",
       "      <td>231.28</td>\n",
       "      <td>3979484</td>\n",
       "    </tr>\n",
       "    <tr>\n",
       "      <th>230</th>\n",
       "      <td>6-Jan-17</td>\n",
       "      <td>226.93</td>\n",
       "      <td>230.31</td>\n",
       "      <td>225.45</td>\n",
       "      <td>229.01</td>\n",
       "      <td>5527893</td>\n",
       "    </tr>\n",
       "    <tr>\n",
       "      <th>231</th>\n",
       "      <td>5-Jan-17</td>\n",
       "      <td>226.42</td>\n",
       "      <td>227.48</td>\n",
       "      <td>221.95</td>\n",
       "      <td>226.75</td>\n",
       "      <td>5911695</td>\n",
       "    </tr>\n",
       "    <tr>\n",
       "      <th>232</th>\n",
       "      <td>4-Jan-17</td>\n",
       "      <td>214.75</td>\n",
       "      <td>228.00</td>\n",
       "      <td>214.31</td>\n",
       "      <td>226.99</td>\n",
       "      <td>11213471</td>\n",
       "    </tr>\n",
       "    <tr>\n",
       "      <th>233</th>\n",
       "      <td>3-Jan-17</td>\n",
       "      <td>214.86</td>\n",
       "      <td>220.33</td>\n",
       "      <td>210.96</td>\n",
       "      <td>216.99</td>\n",
       "      <td>5923254</td>\n",
       "    </tr>\n",
       "  </tbody>\n",
       "</table>\n",
       "</div>"
      ],
      "text/plain": [
       "         Date    Open    High     Low   Close    Volume\n",
       "229  9-Jan-17  228.97  231.92  228.00  231.28   3979484\n",
       "230  6-Jan-17  226.93  230.31  225.45  229.01   5527893\n",
       "231  5-Jan-17  226.42  227.48  221.95  226.75   5911695\n",
       "232  4-Jan-17  214.75  228.00  214.31  226.99  11213471\n",
       "233  3-Jan-17  214.86  220.33  210.96  216.99   5923254"
      ]
     },
     "execution_count": 26,
     "metadata": {},
     "output_type": "execute_result"
    }
   ],
   "source": [
    "data.tail()"
   ]
  },
  {
   "cell_type": "code",
   "execution_count": 27,
   "metadata": {
    "collapsed": true
   },
   "outputs": [],
   "source": [
    "data.Date = pd.to_datetime(data.Date)\n",
    "data.index = data.Date\n",
    "del data['Date']"
   ]
  },
  {
   "cell_type": "code",
   "execution_count": 33,
   "metadata": {},
   "outputs": [
    {
     "data": {
      "text/html": [
       "<div>\n",
       "<style>\n",
       "    .dataframe thead tr:only-child th {\n",
       "        text-align: right;\n",
       "    }\n",
       "\n",
       "    .dataframe thead th {\n",
       "        text-align: left;\n",
       "    }\n",
       "\n",
       "    .dataframe tbody tr th {\n",
       "        vertical-align: top;\n",
       "    }\n",
       "</style>\n",
       "<table border=\"1\" class=\"dataframe\">\n",
       "  <thead>\n",
       "    <tr style=\"text-align: right;\">\n",
       "      <th></th>\n",
       "      <th>Open</th>\n",
       "      <th>High</th>\n",
       "      <th>Low</th>\n",
       "      <th>Close</th>\n",
       "      <th>Volume</th>\n",
       "    </tr>\n",
       "    <tr>\n",
       "      <th>Date</th>\n",
       "      <th></th>\n",
       "      <th></th>\n",
       "      <th></th>\n",
       "      <th></th>\n",
       "      <th></th>\n",
       "    </tr>\n",
       "  </thead>\n",
       "  <tbody>\n",
       "    <tr>\n",
       "      <th>2017-01-09</th>\n",
       "      <td>228.97</td>\n",
       "      <td>231.92</td>\n",
       "      <td>228.00</td>\n",
       "      <td>231.28</td>\n",
       "      <td>3979484</td>\n",
       "    </tr>\n",
       "    <tr>\n",
       "      <th>2017-01-06</th>\n",
       "      <td>226.93</td>\n",
       "      <td>230.31</td>\n",
       "      <td>225.45</td>\n",
       "      <td>229.01</td>\n",
       "      <td>5527893</td>\n",
       "    </tr>\n",
       "    <tr>\n",
       "      <th>2017-01-05</th>\n",
       "      <td>226.42</td>\n",
       "      <td>227.48</td>\n",
       "      <td>221.95</td>\n",
       "      <td>226.75</td>\n",
       "      <td>5911695</td>\n",
       "    </tr>\n",
       "    <tr>\n",
       "      <th>2017-01-04</th>\n",
       "      <td>214.75</td>\n",
       "      <td>228.00</td>\n",
       "      <td>214.31</td>\n",
       "      <td>226.99</td>\n",
       "      <td>11213471</td>\n",
       "    </tr>\n",
       "    <tr>\n",
       "      <th>2017-01-03</th>\n",
       "      <td>214.86</td>\n",
       "      <td>220.33</td>\n",
       "      <td>210.96</td>\n",
       "      <td>216.99</td>\n",
       "      <td>5923254</td>\n",
       "    </tr>\n",
       "  </tbody>\n",
       "</table>\n",
       "</div>"
      ],
      "text/plain": [
       "              Open    High     Low   Close    Volume\n",
       "Date                                                \n",
       "2017-01-09  228.97  231.92  228.00  231.28   3979484\n",
       "2017-01-06  226.93  230.31  225.45  229.01   5527893\n",
       "2017-01-05  226.42  227.48  221.95  226.75   5911695\n",
       "2017-01-04  214.75  228.00  214.31  226.99  11213471\n",
       "2017-01-03  214.86  220.33  210.96  216.99   5923254"
      ]
     },
     "execution_count": 33,
     "metadata": {},
     "output_type": "execute_result"
    }
   ],
   "source": [
    "data.tail()"
   ]
  },
  {
   "cell_type": "code",
   "execution_count": 32,
   "metadata": {},
   "outputs": [
    {
     "data": {
      "text/html": [
       "<div>\n",
       "<style>\n",
       "    .dataframe thead tr:only-child th {\n",
       "        text-align: right;\n",
       "    }\n",
       "\n",
       "    .dataframe thead th {\n",
       "        text-align: left;\n",
       "    }\n",
       "\n",
       "    .dataframe tbody tr th {\n",
       "        vertical-align: top;\n",
       "    }\n",
       "</style>\n",
       "<table border=\"1\" class=\"dataframe\">\n",
       "  <thead>\n",
       "    <tr style=\"text-align: right;\">\n",
       "      <th></th>\n",
       "      <th>Open</th>\n",
       "      <th>High</th>\n",
       "      <th>Low</th>\n",
       "      <th>Close</th>\n",
       "      <th>Adj Close</th>\n",
       "      <th>Volume</th>\n",
       "    </tr>\n",
       "    <tr>\n",
       "      <th>Date</th>\n",
       "      <th></th>\n",
       "      <th></th>\n",
       "      <th></th>\n",
       "      <th></th>\n",
       "      <th></th>\n",
       "      <th></th>\n",
       "    </tr>\n",
       "  </thead>\n",
       "  <tbody>\n",
       "    <tr>\n",
       "      <th>2017-01-03</th>\n",
       "      <td>214.860001</td>\n",
       "      <td>220.330002</td>\n",
       "      <td>210.960007</td>\n",
       "      <td>216.990005</td>\n",
       "      <td>216.990005</td>\n",
       "      <td>5923300</td>\n",
       "    </tr>\n",
       "    <tr>\n",
       "      <th>2017-01-04</th>\n",
       "      <td>214.750000</td>\n",
       "      <td>228.000000</td>\n",
       "      <td>214.309998</td>\n",
       "      <td>226.990005</td>\n",
       "      <td>226.990005</td>\n",
       "      <td>11213500</td>\n",
       "    </tr>\n",
       "    <tr>\n",
       "      <th>2017-01-05</th>\n",
       "      <td>226.419998</td>\n",
       "      <td>227.479996</td>\n",
       "      <td>221.949997</td>\n",
       "      <td>226.750000</td>\n",
       "      <td>226.750000</td>\n",
       "      <td>5911700</td>\n",
       "    </tr>\n",
       "    <tr>\n",
       "      <th>2017-01-06</th>\n",
       "      <td>226.929993</td>\n",
       "      <td>230.309998</td>\n",
       "      <td>225.449997</td>\n",
       "      <td>229.009995</td>\n",
       "      <td>229.009995</td>\n",
       "      <td>5527900</td>\n",
       "    </tr>\n",
       "    <tr>\n",
       "      <th>2017-01-09</th>\n",
       "      <td>228.970001</td>\n",
       "      <td>231.919998</td>\n",
       "      <td>228.000000</td>\n",
       "      <td>231.279999</td>\n",
       "      <td>231.279999</td>\n",
       "      <td>3957000</td>\n",
       "    </tr>\n",
       "  </tbody>\n",
       "</table>\n",
       "</div>"
      ],
      "text/plain": [
       "                  Open        High         Low       Close   Adj Close  \\\n",
       "Date                                                                     \n",
       "2017-01-03  214.860001  220.330002  210.960007  216.990005  216.990005   \n",
       "2017-01-04  214.750000  228.000000  214.309998  226.990005  226.990005   \n",
       "2017-01-05  226.419998  227.479996  221.949997  226.750000  226.750000   \n",
       "2017-01-06  226.929993  230.309998  225.449997  229.009995  229.009995   \n",
       "2017-01-09  228.970001  231.919998  228.000000  231.279999  231.279999   \n",
       "\n",
       "              Volume  \n",
       "Date                  \n",
       "2017-01-03   5923300  \n",
       "2017-01-04  11213500  \n",
       "2017-01-05   5911700  \n",
       "2017-01-06   5527900  \n",
       "2017-01-09   3957000  "
      ]
     },
     "execution_count": 32,
     "metadata": {},
     "output_type": "execute_result"
    }
   ],
   "source": [
    "data2 = web.DataReader('TSLA', 'yahoo', datetime(2017, 1, 1))\n",
    "data2.head()"
   ]
  },
  {
   "cell_type": "code",
   "execution_count": 35,
   "metadata": {},
   "outputs": [
    {
     "ename": "AttributeError",
     "evalue": "module 'kchart' has no attribute 'draw'",
     "output_type": "error",
     "traceback": [
      "\u001b[1;31m---------------------------------------------------------------------------\u001b[0m",
      "\u001b[1;31mAttributeError\u001b[0m                            Traceback (most recent call last)",
      "\u001b[1;32m<ipython-input-35-8f2a47833634>\u001b[0m in \u001b[0;36m<module>\u001b[1;34m()\u001b[0m\n\u001b[1;32m----> 1\u001b[1;33m \u001b[0mkchart\u001b[0m\u001b[1;33m.\u001b[0m\u001b[0mdraw\u001b[0m\u001b[1;33m(\u001b[0m\u001b[0mdata2\u001b[0m\u001b[1;33m)\u001b[0m\u001b[1;33m\u001b[0m\u001b[0m\n\u001b[0m",
      "\u001b[1;31mAttributeError\u001b[0m: module 'kchart' has no attribute 'draw'"
     ]
    }
   ],
   "source": [
    "kchart.draw(data2)"
   ]
  },
  {
   "cell_type": "code",
   "execution_count": 198,
   "metadata": {},
   "outputs": [
    {
     "data": {
      "text/plain": [
       "pandas.core.frame.DataFrame"
      ]
     },
     "execution_count": 198,
     "metadata": {},
     "output_type": "execute_result"
    }
   ],
   "source": [
    "type(data)"
   ]
  },
  {
   "cell_type": "code",
   "execution_count": 42,
   "metadata": {},
   "outputs": [
    {
     "name": "stdout",
     "output_type": "stream",
     "text": [
      "<!DOCTYPE html><html lang=en><meta charset=utf-8><meta name=viewport content=\"initial-scale=1, minimum-scale=1, width=device-width\"><title>Error 400 (Not Found)!!1</title><style>*{margin:0;padding:0}html,code{font:15px/22px arial,sans-serif}html{background:#fff;color:#222;padding:15px}body{color:#222;text-align:unset;margin:7% auto 0;max-width:390px;min-height:180px;padding:30px 0 15px;}* > body{background:url(//www.google.com/images/errors/robot.png) 100% 5px no-repeat;padding-right:205px}p{margin:11px 0 22px;overflow:hidden}pre{white-space:pre-wrap;}ins{color:#777;text-decoration:none}a img{border:0}@media screen and (max-width:772px){body{background:none;margin-top:0;max-width:none;padding-right:0}}#logo{background:url(//www.google.com/images/branding/googlelogo/1x/googlelogo_color_150x54dp.png) no-repeat;margin-left:-5px}@media only screen and (min-resolution:192dpi){#logo{background:url(//www.google.com/images/branding/googlelogo/2x/googlelogo_color_150x54dp.png) no-repeat 0% 0%/100% 100%;-moz-border-image:url(//www.google.com/images/branding/googlelogo/2x/googlelogo_color_150x54dp.png) 0}}@media only screen and (-webkit-min-device-pixel-ratio:2){#logo{background:url(//www.google.com/images/branding/googlelogo/2x/googlelogo_color_150x54dp.png) no-repeat;-webkit-background-size:100% 100%}}#logo{display:inline-block;height:54px;width:150px}</style><div id=\"af-error-container\"><a href=//www.google.com><span id=logo aria-label=Google></span></a><p><b>400.</b> <ins>That’s an error.</ins><p>The requested URL was not found on this server. <ins>That’s all we know.</ins></div>\n"
     ]
    }
   ],
   "source": [
    "import requests\n",
    "\n",
    "url = \"http://finance.google.com/finance/historical\"\n",
    "\n",
    "params = {}\n",
    "params['q'] = 'APPL'\n",
    "params['startdate'] = '2016-01-01'\n",
    "params['output'] = 'csv'\n",
    "\n",
    "r = requests.get(url, params=params)\n",
    "\n",
    "print(r.text)\n"
   ]
  },
  {
   "cell_type": "code",
   "execution_count": null,
   "metadata": {
    "collapsed": true
   },
   "outputs": [],
   "source": []
  }
 ],
 "metadata": {
  "kernelspec": {
   "display_name": "Python 3",
   "language": "python",
   "name": "python3"
  },
  "language_info": {
   "codemirror_mode": {
    "name": "ipython",
    "version": 3
   },
   "file_extension": ".py",
   "mimetype": "text/x-python",
   "name": "python",
   "nbconvert_exporter": "python",
   "pygments_lexer": "ipython3",
   "version": "3.6.3"
  }
 },
 "nbformat": 4,
 "nbformat_minor": 2
}
