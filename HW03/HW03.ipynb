{
 "cells": [
  {
   "cell_type": "code",
   "execution_count": 1,
   "metadata": {
    "collapsed": true
   },
   "outputs": [],
   "source": [
    "import util"
   ]
  },
  {
   "cell_type": "code",
   "execution_count": 2,
   "metadata": {
    "collapsed": true
   },
   "outputs": [],
   "source": [
    "import jieba"
   ]
  },
  {
   "cell_type": "code",
   "execution_count": 24,
   "metadata": {
    "collapsed": true
   },
   "outputs": [],
   "source": [
    "import jieba.analyse"
   ]
  },
  {
   "cell_type": "code",
   "execution_count": 28,
   "metadata": {
    "collapsed": true
   },
   "outputs": [],
   "source": [
    "import requests"
   ]
  },
  {
   "cell_type": "code",
   "execution_count": 29,
   "metadata": {
    "collapsed": true
   },
   "outputs": [],
   "source": [
    "from bs4 import BeautifulSoup"
   ]
  },
  {
   "cell_type": "code",
   "execution_count": 251,
   "metadata": {
    "collapsed": true
   },
   "outputs": [],
   "source": [
    "url = \"https://news.cnyes.com/news/id/3955616\"        #定義一個變數為我們要選取的新聞文章網址"
   ]
  },
  {
   "cell_type": "code",
   "execution_count": 252,
   "metadata": {},
   "outputs": [],
   "source": [
    "r = requests.get(url)                                 #利用request套件抓取網頁的原始碼,並設定為UTF-8\n",
    "r.encoding = \"UTF-8\""
   ]
  },
  {
   "cell_type": "code",
   "execution_count": 300,
   "metadata": {},
   "outputs": [
    {
     "name": "stderr",
     "output_type": "stream",
     "text": [
      "C:\\Users\\TheOne\\Anaconda3\\lib\\site-packages\\bs4\\__init__.py:181: UserWarning: No parser was explicitly specified, so I'm using the best available HTML parser for this system (\"lxml\"). This usually isn't a problem, but if you run this code on another system, or in a different virtual environment, it may use a different parser and behave differently.\n",
      "\n",
      "The code that caused this warning is on line 193 of the file C:\\Users\\TheOne\\Anaconda3\\lib\\runpy.py. To get rid of this warning, change code that looks like this:\n",
      "\n",
      " BeautifulSoup(YOUR_MARKUP})\n",
      "\n",
      "to this:\n",
      "\n",
      " BeautifulSoup(YOUR_MARKUP, \"lxml\")\n",
      "\n",
      "  markup_type=markup_type))\n"
     ]
    }
   ],
   "source": [
    "soup = BeautifulSoup(r.text)                          #利用BeautifulSoup套件呈現出原始碼為文字檔格式"
   ]
  },
  {
   "cell_type": "code",
   "execution_count": 270,
   "metadata": {},
   "outputs": [
    {
     "data": {
      "text/plain": [
       "'瑞士信貸私人銀行高級顧問陶冬在部落格發文分析，認為準 Fed 主席鮑威爾重視凝聚共識，不會貿然行事。有評論員拿他缺乏經濟學教育學歷說事，這個不是問題，過去幾十年中最好的聯儲主席是經濟學家，最差的也是經濟學家。以下為陶冬部落格全文：\\n上週重大事件頗多，美股、美債、美元和石油價格比翼齊飛。特朗普推薦 J 鮑威爾擔任下一任聯儲主席，市場憧憬沒有耶倫的耶倫時代得以持續，貨幣政策維持寬鬆狀態，美國債市火爆，十年期國債利率下挫 7 點至 2.33%。科技公司的盈利表現繼續靚麗，參議院公佈稅改綱要，納斯達克、道瓊斯和 S&P500 再攀新高。十月份非農就業人數增加弱過市場預期，時薪零增長，進一步增強了市場對溫和貨幣政策前景的信心。這種場景下，美元照理應該走弱，不過其他貨幣更弱，美元指數略有上揚。英國央行決定加息 25 點，這是 10 年來首次加息，爭議頗大，不過市場對此已廣為消化，英鎊略貶，富時 100 指數創出新高。西班牙政府迅速鎮壓加泰羅尼亞自治運動，拘捕獨立人士，西班牙股市、債市均現弱勢，並拖累歐元。在央行示弱比拼中，歐洲央行表演最佳，歐洲央行上週會議和德拉吉宣示 “less for longer”，德國國債受到追捧，歐元匯率積弱。OPEC 與俄羅斯在減產問題上接近達成一致，石油價格企穩 60 美元樓上，布倫特期油漲到每桶 62 美元。全球風險市場都在增風險權重，黃金上週每盎司下降 3 美元。\\n特朗普提名杰羅姆 - 鮑威爾為第十任美國聯儲主席，經過參議院通過後，他將於明年二月升任世界最大央行的掌門人。尋找下一任聯儲主席的過程，被特朗普的非常規披露和英國賭盤的賠率變化搞得馬戲團化了，不過這卻也是耶倫連任之外最可以體現政策連續性的人事選擇。自從 2012 年成為聯儲理事，鮑威爾在公開市場委員會的所有貨幣政策投票中，均投下了 “yes“票，可謂是橫跨伯南克、耶倫兩朝的” 牛步退出 “戰略的堅定支持者。以他的個性看，鮑威爾重視凝聚共識，不會貿然行事。有評論員拿他缺乏經濟學教育學歷說事，筆者認為這個不是問題，過去幾十年中最好的聯儲主席是經濟學家，最差的也是經濟學家，聯邦儲備局內有許多優秀的經濟學家提供政策選項，關鍵是掌舵人如何凝聚共識，關鍵是掌舵人如何拍板決策。筆者看來，新任聯儲主席無需擁有經濟學學位，但必須有能力既慎重又果斷地處理貨幣環境正常化的問題，必鬚麵如何處置資產泡沫橫飛的挑戰，他的決策對美元走勢、資金流向、金融穩定具有莫大的影響，他的決策將對全世界的未來具有莫大的影響。\\n美國十月份非農就業增加了 261K，接近筆者估計的 260K，不過低於市場均值 313K，時薪環比零增長，低於市場預期的 0.2%，失業率則略降至 4.1%。這組數據明顯地受到上月颶風的影響，統計噪音較重，不過整體上仍能看出勞工市場繼續收緊，而工資增長溫和，這和颶風前的趨勢基本一致，12 月再次加息的概率沒有因此而有大的變化。現任聯儲主席擺脫掉了能否連任的患得患失，更會在離任之前為自己恪守職責、堅持退出書寫一個句號。筆者預期耶倫在 12 月推動加息 25 點。\\n英格蘭銀行上調了政策利率 25 點，這是該行 2007 年以來首次加息。上次加息後不久，就爆發了北岩銀行擠提時間，那是 1866 年之後英國發生的第一次大規模銀行擠提。和其他國家不同，英國的通貨膨脹率超過了 2% 的政策目標，英國央行是由一位外國人卡尼主導的，所以英國在加息上出手果斷。出乎卡尼預料的是，市場用鴿派的加息來形容央行的舉措，英鎊不升反跌。第二天央行副行長立即開口，說不要低估 BoE 的加息決心。BoE 在和經濟分析員的交流中，一般表露在 2020 年前起碼再加息兩次，不過市場不太相信，筆者也持懷疑態度。英國政府一直低估英國脫歐對海外資金流入的影響，低估對經濟的影響。的確跨國企業的退出尚不明顯，但是最近金融業已經開始了部分功能的轉移。英國政府在同歐盟的談判上不得要領，在延續關稅優惠上寸步未進，假如持續下去，勢必帶來企業對未來不確定性的恐懼，明年情況可能大幅惡化。英格蘭銀行的政策決定不可能脫離經濟基本面，一切取決於英國經濟明年會不會出現增長滑坡。\\n經歷了上星期超級數據／事件週之後，本週沒有太重要的數據或預定的事件，特朗普的亞洲行值得關注，而市場會花時間了解稅改法案的細節。\\n本週記每週六刊出，闡述作者對經濟、政策與市場的理解、認識，為個人觀點，並非投資建議或勸誘\\n'"
      ]
     },
     "execution_count": 270,
     "metadata": {},
     "output_type": "execute_result"
    }
   ],
   "source": [
    "news_text = soup.find_all(\"div\",itemprop=\"articleBody\")[0].text      #抓取新聞文章內容，並顯示為文字檔\n",
    "news_text"
   ]
  },
  {
   "cell_type": "code",
   "execution_count": 264,
   "metadata": {},
   "outputs": [],
   "source": [
    "news_key = jieba.analyse.extract_tags(news_text,10,False)           #抓取10個關鍵字"
   ]
  },
  {
   "cell_type": "code",
   "execution_count": 265,
   "metadata": {},
   "outputs": [
    {
     "name": "stdout",
     "output_type": "stream",
     "text": [
      "市場/ 經濟/ 聯儲/ 英國/ 不過/ 加息/ 銀行/ 學家/ 貨幣/ 筆者\n"
     ]
    }
   ],
   "source": [
    "print(\"/ \".join(news_key))                                          #顯示出來，並以/為區隔"
   ]
  },
  {
   "cell_type": "code",
   "execution_count": 272,
   "metadata": {},
   "outputs": [
    {
     "name": "stdout",
     "output_type": "stream",
     "text": [
      "[('市場', 0.24826194494840254), ('經濟', 0.21006779957172522), ('聯儲', 0.15277658150670925), ('英國', 0.15277658150670925), ('不過', 0.11458243613003194), ('加息', 0.10042905698354632), ('銀行', 0.09548536344169328), ('學家', 0.09548536344169328), ('貨幣', 0.09548536344169328), ('筆者', 0.09548536344169328)]\n"
     ]
    }
   ],
   "source": [
    "print (repr(jieba.analyse.extract_tags(news_text, topK=10, withWeight=True)))      #利用repr函數回傳字串的表達形式"
   ]
  },
  {
   "cell_type": "code",
   "execution_count": 301,
   "metadata": {},
   "outputs": [],
   "source": [
    "def index_of_keyword(sentences, keyword):                           #定義一個函數，找出關鍵字所在的段落\n",
    "    for i, s in enumerate(sentences):                               #enumerate函数可以同时列出數據和數據所在位子\n",
    "        if keyword in s: \n",
    "              return i\n",
    "    return -1"
   ]
  },
  {
   "cell_type": "code",
   "execution_count": 285,
   "metadata": {},
   "outputs": [
    {
     "data": {
      "text/plain": [
       "34"
      ]
     },
     "execution_count": 285,
     "metadata": {},
     "output_type": "execute_result"
    }
   ],
   "source": [
    "sentences = news_text.replace(\"\\n\",\"\").split(\"。\")                  #將新聞\\n刪除，並用句號分割數個段落 \n",
    "len(sentences)                                                      #計算有幾段"
   ]
  },
  {
   "cell_type": "code",
   "execution_count": 288,
   "metadata": {},
   "outputs": [
    {
     "name": "stdout",
     "output_type": "stream",
     "text": [
      "瑞士信貸私人銀行高級顧問陶冬在部落格發文分析，認為準 Fed 主席鮑威爾重視凝聚共識，不會貿然行事。\n",
      "有評論員拿他缺乏經濟學教育學歷說事，這個不是問題，過去幾十年中最好的聯儲主席是經濟學家，最差的也是經濟學家。\n",
      "以下為陶冬部落格全文：上週重大事件頗多，美股、美債、美元和石油價格比翼齊飛。\n",
      "特朗普推薦 J 鮑威爾擔任下一任聯儲主席，市場憧憬沒有耶倫的耶倫時代得以持續，貨幣政策維持寬鬆狀態，美國債市火爆，十年期國債利率下挫 7 點至 2.33%。\n",
      "科技公司的盈利表現繼續靚麗，參議院公佈稅改綱要，納斯達克、道瓊斯和 S&P500 再攀新高。\n",
      "十月份非農就業人數增加弱過市場預期，時薪零增長，進一步增強了市場對溫和貨幣政策前景的信心。\n",
      "這種場景下，美元照理應該走弱，不過其他貨幣更弱，美元指數略有上揚。\n",
      "英國央行決定加息 25 點，這是 10 年來首次加息，爭議頗大，不過市場對此已廣為消化，英鎊略貶，富時 100 指數創出新高。\n",
      "西班牙政府迅速鎮壓加泰羅尼亞自治運動，拘捕獨立人士，西班牙股市、債市均現弱勢，並拖累歐元。\n",
      "在央行示弱比拼中，歐洲央行表演最佳，歐洲央行上週會議和德拉吉宣示 “less for longer”，德國國債受到追捧，歐元匯率積弱。\n",
      "OPEC 與俄羅斯在減產問題上接近達成一致，石油價格企穩 60 美元樓上，布倫特期油漲到每桶 62 美元。\n",
      "全球風險市場都在增風險權重，黃金上週每盎司下降 3 美元。\n",
      "特朗普提名杰羅姆 - 鮑威爾為第十任美國聯儲主席，經過參議院通過後，他將於明年二月升任世界最大央行的掌門人。\n",
      "尋找下一任聯儲主席的過程，被特朗普的非常規披露和英國賭盤的賠率變化搞得馬戲團化了，不過這卻也是耶倫連任之外最可以體現政策連續性的人事選擇。\n",
      "自從 2012 年成為聯儲理事，鮑威爾在公開市場委員會的所有貨幣政策投票中，均投下了 “yes“票，可謂是橫跨伯南克、耶倫兩朝的” 牛步退出 “戰略的堅定支持者。\n",
      "以他的個性看，鮑威爾重視凝聚共識，不會貿然行事。\n",
      "有評論員拿他缺乏經濟學教育學歷說事，筆者認為這個不是問題，過去幾十年中最好的聯儲主席是經濟學家，最差的也是經濟學家，聯邦儲備局內有許多優秀的經濟學家提供政策選項，關鍵是掌舵人如何凝聚共識，關鍵是掌舵人如何拍板決策。\n",
      "筆者看來，新任聯儲主席無需擁有經濟學學位，但必須有能力既慎重又果斷地處理貨幣環境正常化的問題，必鬚麵如何處置資產泡沫橫飛的挑戰，他的決策對美元走勢、資金流向、金融穩定具有莫大的影響，他的決策將對全世界的未來具有莫大的影響。\n",
      "美國十月份非農就業增加了 261K，接近筆者估計的 260K，不過低於市場均值 313K，時薪環比零增長，低於市場預期的 0.2%，失業率則略降至 4.1%。\n",
      "這組數據明顯地受到上月颶風的影響，統計噪音較重，不過整體上仍能看出勞工市場繼續收緊，而工資增長溫和，這和颶風前的趨勢基本一致，12 月再次加息的概率沒有因此而有大的變化。\n",
      "現任聯儲主席擺脫掉了能否連任的患得患失，更會在離任之前為自己恪守職責、堅持退出書寫一個句號。\n",
      "筆者預期耶倫在 12 月推動加息 25 點。\n",
      "英格蘭銀行上調了政策利率 25 點，這是該行 2007 年以來首次加息。\n",
      "上次加息後不久，就爆發了北岩銀行擠提時間，那是 1866 年之後英國發生的第一次大規模銀行擠提。\n",
      "和其他國家不同，英國的通貨膨脹率超過了 2% 的政策目標，英國央行是由一位外國人卡尼主導的，所以英國在加息上出手果斷。\n",
      "出乎卡尼預料的是，市場用鴿派的加息來形容央行的舉措，英鎊不升反跌。\n",
      "第二天央行副行長立即開口，說不要低估 BoE 的加息決心。\n",
      "BoE 在和經濟分析員的交流中，一般表露在 2020 年前起碼再加息兩次，不過市場不太相信，筆者也持懷疑態度。\n",
      "英國政府一直低估英國脫歐對海外資金流入的影響，低估對經濟的影響。\n",
      "的確跨國企業的退出尚不明顯，但是最近金融業已經開始了部分功能的轉移。\n",
      "英國政府在同歐盟的談判上不得要領，在延續關稅優惠上寸步未進，假如持續下去，勢必帶來企業對未來不確定性的恐懼，明年情況可能大幅惡化。\n",
      "英格蘭銀行的政策決定不可能脫離經濟基本面，一切取決於英國經濟明年會不會出現增長滑坡。\n",
      "經歷了上星期超級數據／事件週之後，本週沒有太重要的數據或預定的事件，特朗普的亞洲行值得關注，而市場會花時間了解稅改法案的細節。\n",
      "本週記每週六刊出，闡述作者對經濟、政策與市場的理解、認識，為個人觀點，並非投資建議或勸誘。\n"
     ]
    }
   ],
   "source": [
    "for sentence in sentences:                                          #在斷落後面加入句號\n",
    "    print (sentence + \"。\")"
   ]
  },
  {
   "cell_type": "code",
   "execution_count": 307,
   "metadata": {},
   "outputs": [
    {
     "data": {
      "text/plain": [
       "3"
      ]
     },
     "execution_count": 307,
     "metadata": {},
     "output_type": "execute_result"
    }
   ],
   "source": [
    "index_of_keyword(sentences,\"市場\")                                #驗證index_of_keyword這個函數，找出關鍵字所在的段落"
   ]
  },
  {
   "cell_type": "code",
   "execution_count": 291,
   "metadata": {},
   "outputs": [
    {
     "name": "stdout",
     "output_type": "stream",
     "text": [
      "特朗普推薦 J 鮑威爾擔任下一任聯儲主席，市場憧憬沒有耶倫的耶倫時代得以持續，貨幣政策維持寬鬆狀態，美國債市火爆，十年期國債利率下挫 7 點至 2.33%。\n"
     ]
    }
   ],
   "source": [
    "print (sentences[index_of_keyword(sentences,\"市場\")]+\"。\")        #顯示關鍵字所在的段落，並加上句號"
   ]
  },
  {
   "cell_type": "code",
   "execution_count": 292,
   "metadata": {},
   "outputs": [
    {
     "data": {
      "text/plain": [
       "49"
      ]
     },
     "execution_count": 292,
     "metadata": {},
     "output_type": "execute_result"
    }
   ],
   "source": [
    "len(sentences[0])                                                #計算第一段有幾個字"
   ]
  },
  {
   "cell_type": "code",
   "execution_count": 318,
   "metadata": {},
   "outputs": [],
   "source": [
    "s_index = []                                                     #定義s_index為一個空的陣列\n",
    "for keyword in news_key[:4]:                                     #利用迴圈找出前四個關鍵字所在的段落位置並放到s_index裡\n",
    "    s_index.append(index_of_keyword(sentences,keyword))\n",
    "\n",
    "s_set = set(s_index)                                             #利用set函數照順序排列，並扣掉相同的，傳回到s_index裡\n",
    "s_index = list(s_set)"
   ]
  },
  {
   "cell_type": "code",
   "execution_count": 319,
   "metadata": {
    "collapsed": true
   },
   "outputs": [],
   "source": [
    "summary = \"\"                                                     #定義summary為一個新的字串\n",
    "for i in s_index:                                                #將剛剛所排好順序的段落位置轉成該段的文字回傳到summary裡\n",
    "    summary += sentences[i]+u\"。\""
   ]
  },
  {
   "cell_type": "code",
   "execution_count": 320,
   "metadata": {},
   "outputs": [
    {
     "name": "stdout",
     "output_type": "stream",
     "text": [
      "有評論員拿他缺乏經濟學教育學歷說事，這個不是問題，過去幾十年中最好的聯儲主席是經濟學家，最差的也是經濟學家。特朗普推薦 J 鮑威爾擔任下一任聯儲主席，市場憧憬沒有耶倫的耶倫時代得以持續，貨幣政策維持寬鬆狀態，美國債市火爆，十年期國債利率下挫 7 點至 2.33%。英國央行決定加息 25 點，這是 10 年來首次加息，爭議頗大，不過市場對此已廣為消化，英鎊略貶，富時 100 指數創出新高。\n"
     ]
    }
   ],
   "source": [
    "print (summary)                                                  #並顯示出來"
   ]
  },
  {
   "cell_type": "code",
   "execution_count": 321,
   "metadata": {
    "scrolled": true
   },
   "outputs": [
    {
     "name": "stdout",
     "output_type": "stream",
     "text": [
      "陶冬：聯儲新主出場 英國利率開漲\n"
     ]
    }
   ],
   "source": [
    "news_head = soup.find_all(itemprop=\"headline\")[0].text           #抓取新聞文章的標題來判斷是否相似，發現找前四個關鍵字較為準確\n",
    "print(news_head)"
   ]
  }
 ],
 "metadata": {
  "kernelspec": {
   "display_name": "Python 3",
   "language": "python",
   "name": "python3"
  },
  "language_info": {
   "codemirror_mode": {
    "name": "ipython",
    "version": 3
   },
   "file_extension": ".py",
   "mimetype": "text/x-python",
   "name": "python",
   "nbconvert_exporter": "python",
   "pygments_lexer": "ipython3",
   "version": "3.6.3"
  }
 },
 "nbformat": 4,
 "nbformat_minor": 2
}
