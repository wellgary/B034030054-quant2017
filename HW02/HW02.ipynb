{
 "cells": [
  {
   "cell_type": "code",
   "execution_count": 11,
   "metadata": {},
   "outputs": [
    {
     "name": "stdout",
     "output_type": "stream",
     "text": [
      "Hello word!\n",
      "This is Alice’s greeting.\n",
      "This is Bob\\’s greeting.\n",
      "5 plus 10 is equal to 15\n",
      "foo\n",
      "==========\n",
      "Current working directory is C:\\Users\\TheOne\\Desktop\\Programming\\Projects\\B034030054-quant2017\\HW02\n",
      "I like to eat apples\n",
      "I like to eat oranges\n",
      "I like to eat cats\n",
      "Count to ten:\n",
      "0\n",
      "1\n",
      "2\n",
      "3\n",
      "4\n",
      "5\n",
      "6\n",
      "7\n",
      "8\n",
      "9\n"
     ]
    }
   ],
   "source": [
    "import os                                                       #載入模組\n",
    "def main():                                                     #定義main這個函數\n",
    "    print('Hello word!')                                        #顯示Hello word!\n",
    "    print(\"This is Alice’s greeting.\")                          #顯示This is Alice’s greeting.\n",
    "    print('This is Bob\\’s greeting.')                           \n",
    "    #顯示This is Bob\\’s greeting.   ''與\"\"都可以\n",
    "    \n",
    "    foo(5,10)                                                   #呼叫foo這個函數,已在下方定義\n",
    "    \n",
    "    print('=' * 10)                                             #顯示==========\n",
    "    print('Current working directory is ' + os.getcwd())        #顯示Current working directory is當前的目錄\n",
    "    \n",
    "    counter = 0                                                 #新變數counter為0\n",
    "    counter += 1                                                #counter = counter + 1\n",
    "    \n",
    "    food = ['apples','oranges','cats']                          \n",
    "    #新增food這個矩陣,裡面有'apples'、'oranges'、'cats'三個字串\n",
    "    \n",
    "    for i in food:                                              #利用迴圈依序顯是 I like to eat apples \n",
    "        print('I like to eat ' + i)                             #                I like to eat oranges ...\n",
    "    \n",
    "    print('Count to ten:')                                      #顯示Count to ten:\n",
    "    for i in range(10):                                         #range(10)為0,1,2,3,4,5,6,7,8,9\n",
    "        print(i)                                                #因此利用迴圈依序顯是0\n",
    "                                                                #                  1 ...到9\n",
    "if __name__ == '__main__':                                      #判斷模組是被執行還是被載入\n",
    "    main()"
   ]
  },
  {
   "cell_type": "code",
   "execution_count": 10,
   "metadata": {
    "collapsed": true
   },
   "outputs": [],
   "source": [
    "def foo(param1,secondParam):                                    #定義foo這個函數,並需要兩個變數\n",
    "    res = param1 + secondParam                                  #新變數res等於原兩變數相加\n",
    "    print('%s plus %s is equal to %s'% (param1,secondParam,res))\n",
    "    #顯示(param1) plus (secondParam) is equal to (res),刮號內為變數的值\n",
    "    \n",
    "    if res < 50:                                                #如果res的值小於50\n",
    "        print('foo')                                            #顯示foo\n",
    "    elif(res >= 50) and ((param1 == 42) or (secondParam == 24)):\n",
    "    #如果res的值大於等於50和滿足param1等於42或是secondParam等於24\n",
    "        print('bar')                                            #顯示bar\n",
    "    else:      \n",
    "        print('moo')                                            #其他則顯示moo\n",
    "    \n",
    "    return res                                                  #將res的值傳回去"
   ]
  }
 ],
 "metadata": {
  "kernelspec": {
   "display_name": "Python 3",
   "language": "python",
   "name": "python3"
  },
  "language_info": {
   "codemirror_mode": {
    "name": "ipython",
    "version": 3
   },
   "file_extension": ".py",
   "mimetype": "text/x-python",
   "name": "python",
   "nbconvert_exporter": "python",
   "pygments_lexer": "ipython3",
   "version": "3.6.3"
  }
 },
 "nbformat": 4,
 "nbformat_minor": 2
}
